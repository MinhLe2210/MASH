{
 "cells": [
  {
   "cell_type": "code",
   "execution_count": 8,
   "metadata": {},
   "outputs": [],
   "source": [
    "%%sh\n",
    "export PYTHONPATH=/home/mash-intern/mash/cue:${PYTHONPATH}\n",
    "# export PATH=/home/mash-intern/mash/tools/apps/bcftools/bin:$PATH\n",
    "# export PYTHONPATH=${PYTHONPATH}:..\n",
    "# . ../env/bin/activate\n",
    "\n",
    "# python ../engine/call.py --data_config ../data/demo/results/data.yaml --model_config ../data/demo/results/model.yaml"
   ]
  },
  {
   "cell_type": "code",
   "execution_count": 38,
   "metadata": {},
   "outputs": [],
   "source": [
    "%%sh\n",
    "export PYTHONPATH=.:${PYTHONPATH}"
   ]
  },
  {
   "cell_type": "code",
   "execution_count": 40,
   "metadata": {},
   "outputs": [
    {
     "name": "stdout",
     "output_type": "stream",
     "text": [
      "*********************************\n",
      "*  cue (v0.2.2): discovery mode *\n",
      "*********************************\n",
      "[INFO]  ========== Model config ==========\n",
      "\tmodel_path: ../data/demo/models/cue.pt\n",
      "\tn_cpus: 1\n",
      "\tgpu_ids: []\n",
      "\tbatch_size: 16\n",
      "\tlogging_level: INFO\n",
      "\treport_interval: 50\n",
      "\tn_jobs_per_gpu: 1\n",
      "\tsignal_set: SV_SIGNAL_SET.SHORT\n",
      "\tclass_set: SV_CLASS_SET.BASIC5ZYG\n",
      "\tnum_keypoints: 1\n",
      "\tmodel_architecture: HG\n",
      "\timage_dim: 256\n",
      "\tsigma: 10\n",
      "\tstride: 4\n",
      "\theatmap_peak_threshold: 0.4\n",
      "\tpretrained_refinenn_path: None\n",
      "\tconfig_file: ../data/demo/model_config.yaml\n",
      "\texperiment_dir: /home/mash-intern/mash/cue/test/data/demo\n",
      "\tdevices: [device(type='cpu')]\n",
      "\tdevice: cpu\n",
      "\tlog_dir: /home/mash-intern/mash/cue/test/data/demo/logs/\n",
      "\treport_dir: /home/mash-intern/mash/cue/test/data/demo/reports/\n",
      "\tlog_file: /home/mash-intern/mash/cue/test/data/demo/logs/main.log\n",
      "\tclasses: ['NEG', 'DEL-HOM', 'INV-HOM', 'DUP-HOM', 'DEL-HET', 'INV-HET', 'DUP-HET', 'IDUP-HOM', 'IDUP-HET']\n",
      "\tnum_classes: 9\n",
      "\tn_signals: 6\n",
      "[INFO] ========== Data config =========\n",
      "\tbam: ../data/demo/inputs/chr21.small.bam\n",
      "\tfai: ../data/demo/inputs/chr21.small.fa.fai\n",
      "\tchr_names: ['chr21']\n",
      "\tlog_level: Info\n",
      "\tn_cpus: 1\n",
      "\tlogging_level: INFO\n",
      "\tmin_refine_buffer: 2000\n",
      "\trefine_buffer_frac_size: 5\n",
      "\trefine_pair_dist_frac_size: 2\n",
      "\trefine_bp_kernels: [0, 50, 500]\n",
      "\trefine_min_support: 2\n",
      "\trefine_disable: False\n",
      "\tmin_pair_support: 2\n",
      "\tmin_pair_distance: 4000\n",
      "\tmax_pair_distance: 1000000\n",
      "\tscan_target_intervals: True\n",
      "\tstream: True\n",
      "\tview_mode: False\n",
      "\tstore_img: False\n",
      "\tempty_annotation: False\n",
      "\tbins_per_block: 8000\n",
      "\tmin_sv_len: 4000\n",
      "\tmin_qual_score: 50\n",
      "\tbam_type: BAM_TYPE.SHORT\n",
      "\tsignal_set: SV_SIGNAL_SET.SHORT\n",
      "\tsignal_set_origin: SHORT\n",
      "\tbed: None\n",
      "\tblacklist_bed: None\n",
      "\tsignal_vmax: {'RD': 600, 'RD_LOW': 800, 'RD_CLIPPED': 600, 'SM': 200, 'SR_RP': 600, 'LR': 600, 'LLRR': 100, 'RL': 100, 'LLRR_VS_LR': 1}\n",
      "\tsignal_mapq: {'RD': 20, 'RD_LOW': 0, 'RD_CLIPPED': 20, 'SM': 20, 'SR_RP': 0, 'LR': 0, 'LLRR': 1, 'RL': 1, 'LLRR_VS_LR': 1}\n",
      "\tbin_size: 750\n",
      "\tinterval_size: 150000\n",
      "\tstep_size: 50000\n",
      "\tshift_size: None\n",
      "\theatmap_dim: 1000\n",
      "\timage_dim: 256\n",
      "\tclass_set: SV_CLASS_SET.BASIC5ZYG\n",
      "\tnum_keypoints: 1\n",
      "\tbbox_padding: 0\n",
      "\tconfig_file: ../data/demo/data_config.yaml\n",
      "\tdataset_dir: /home/mash-intern/mash/cue/test/data/demo\n",
      "\tinfo_dir: /home/mash-intern/mash/cue/test/data/demo/info/\n",
      "\timage_dir: /home/mash-intern/mash/cue/test/data/demo/images/\n",
      "\tannotation_dir: /home/mash-intern/mash/cue/test/data/demo/annotations/\n",
      "\tannotated_images_dir: /home/mash-intern/mash/cue/test/data/demo/annotated_images/\n",
      "\tclasses: ['NEG', 'DEL-HOM', 'INV-HOM', 'DUP-HOM', 'DEL-HET', 'INV-HET', 'DUP-HET', 'IDUP-HOM', 'IDUP-HET']\n",
      "\tnum_classes: 9\n",
      "\tnum_signals: 6\n",
      "\tuid: 0000000000\n",
      "\tlog_file: /home/mash-intern/mash/cue/test/data/demo/info/main.log\n",
      "*********************************\n",
      "Loaded data config ../data/demo/model_config.yaml\n",
      "Loaded model config ../data/demo/data_config.yaml\n"
     ]
    }
   ],
   "source": [
    "%%sh\n",
    "export PYTHONPATH=/home/mash-intern/mash/cue:${PYTHONPATH}\n",
    "python ../call.py --data_config ../data/demo/data_config.yaml --model_config ../data/demo/model_config.yaml\n"
   ]
  },
  {
   "cell_type": "code",
   "execution_count": 39,
   "metadata": {},
   "outputs": [
    {
     "ename": "ModuleNotFoundError",
     "evalue": "No module named 'test.config_utils'",
     "output_type": "error",
     "traceback": [
      "\u001b[0;31m---------------------------------------------------------------------------\u001b[0m",
      "\u001b[0;31mModuleNotFoundError\u001b[0m                       Traceback (most recent call last)",
      "\u001b[0;32m/tmp/ipykernel_686346/3031685613.py\u001b[0m in \u001b[0;36m<module>\u001b[0;34m\u001b[0m\n\u001b[0;32m----> 1\u001b[0;31m \u001b[0;32mimport\u001b[0m \u001b[0mtest\u001b[0m\u001b[0;34m.\u001b[0m\u001b[0mconfig_utils\u001b[0m \u001b[0;32mas\u001b[0m \u001b[0mconfig_utils\u001b[0m\u001b[0;34m\u001b[0m\u001b[0;34m\u001b[0m\u001b[0m\n\u001b[0m\u001b[1;32m      2\u001b[0m \u001b[0;32mimport\u001b[0m \u001b[0mtest\u001b[0m\u001b[0;34m\u001b[0m\u001b[0;34m\u001b[0m\u001b[0m\n\u001b[1;32m      3\u001b[0m \u001b[0;32mimport\u001b[0m \u001b[0mtest\u001b[0m\u001b[0;34m.\u001b[0m\u001b[0mcore\u001b[0m \u001b[0;32mas\u001b[0m \u001b[0mcore\u001b[0m\u001b[0;34m\u001b[0m\u001b[0;34m\u001b[0m\u001b[0m\n\u001b[1;32m      4\u001b[0m \u001b[0;32mimport\u001b[0m \u001b[0margparse\u001b[0m\u001b[0;34m\u001b[0m\u001b[0;34m\u001b[0m\u001b[0m\n\u001b[1;32m      5\u001b[0m \u001b[0;32mfrom\u001b[0m \u001b[0mcollections\u001b[0m \u001b[0;32mimport\u001b[0m \u001b[0mdefaultdict\u001b[0m\u001b[0;34m\u001b[0m\u001b[0;34m\u001b[0m\u001b[0m\n",
      "\u001b[0;31mModuleNotFoundError\u001b[0m: No module named 'test.config_utils'"
     ]
    }
   ],
   "source": [
    "import test.config_utils as config_utils\n",
    "import test\n",
    "import test.core as core\n",
    "import argparse\n",
    "from collections import defaultdict\n",
    "from torch.utils.data import DataLoader\n",
    "import torch\n",
    "import models.cue_net as models\n",
    "import logging\n",
    "import seq.io as io\n",
    "import img.datasets as datasets\n",
    "from img.refinery import SVKeypointRefinery\n",
    "import seq.refinery\n",
    "from img.datasets import SVStreamingDataset\n",
    "import img.utils as utils\n",
    "import seq.filters as sv_filters\n",
    "from seq.aln_index import AlnIndex\n",
    "from joblib import Parallel, delayed\n",
    "import seq.utils as seq_utils\n",
    "import os\n",
    "from pathlib import Path\n",
    "import warnings\n",
    "warnings.filterwarnings(\"ignore\")\n",
    "\n",
    "print(\"*********************************\")\n",
    "print(\"*  cue (%s): discovery mode *\" % test.__version__)\n",
    "print(\"*********************************\")"
   ]
  },
  {
   "cell_type": "code",
   "execution_count": null,
   "metadata": {},
   "outputs": [],
   "source": []
  }
 ],
 "metadata": {
  "kernelspec": {
   "display_name": "cue",
   "language": "python",
   "name": "python3"
  },
  "language_info": {
   "codemirror_mode": {
    "name": "ipython",
    "version": 3
   },
   "file_extension": ".py",
   "mimetype": "text/x-python",
   "name": "python",
   "nbconvert_exporter": "python",
   "pygments_lexer": "ipython3",
   "version": "3.7.16"
  }
 },
 "nbformat": 4,
 "nbformat_minor": 2
}
